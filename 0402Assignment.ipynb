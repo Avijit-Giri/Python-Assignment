{
 "cells": [
  {
   "cell_type": "code",
   "execution_count": 2,
   "id": "02b4f709",
   "metadata": {},
   "outputs": [
    {
     "name": "stdout",
     "output_type": "stream",
     "text": [
      "[('Virat Kohli', 24936), ('Jack Kallis', 25534), ('Ricky Ponting', 27483), ('Sachin Tendulkar', 34357)]\n"
     ]
    }
   ],
   "source": [
    "\"\"\" Q1. Create a python program to sort the given list of tuples based on integer value using a \n",
    "lambda function. \n",
    "[('Sachin Tendulkar', 34357), ('Ricky Ponting', 27483), ('Jack Kallis', 25534), ('Virat Kohli', 24936)]\"\"\"\n",
    "\n",
    "\n",
    "\n",
    "list_tup = [('Sachin Tendulkar', 34357), ('Ricky Ponting', 27483), ('Jack Kallis', 25534), ('Virat Kohli', 24936)]\n",
    "\n",
    "new_list = sorted(list_tup, key=lambda x:x[1])\n",
    "\n",
    "print(new_list)\n",
    "\n"
   ]
  },
  {
   "cell_type": "code",
   "execution_count": 6,
   "id": "40252878",
   "metadata": {},
   "outputs": [
    {
     "data": {
      "text/plain": [
       "[1, 4, 9, 16, 25, 36, 49, 64, 81, 100]"
      ]
     },
     "execution_count": 6,
     "metadata": {},
     "output_type": "execute_result"
    }
   ],
   "source": [
    "\"\"\" Write a Python Program to find the squares of all the numbers in the given list of integers using \n",
    "lambda and map functions.\n",
    " [1, 2, 3, 4, 5, 6, 7, 8, 9, 10]\"\"\"\n",
    "\n",
    "listNum =  [1, 2, 3, 4, 5, 6, 7, 8, 9, 10]\n",
    "new_listNum = list(map(lambda x:x**2, listNum))\n",
    "new_listNum"
   ]
  },
  {
   "cell_type": "code",
   "execution_count": 7,
   "id": "4f7e5ba6",
   "metadata": {},
   "outputs": [
    {
     "name": "stdout",
     "output_type": "stream",
     "text": [
      "given string list [1, 2, 3, 4, 5, 6, 7, 8, 9, 10]\n",
      "the string tuple ('1', '2', '3', '4', '5', '6', '7', '8', '9', '10')\n"
     ]
    }
   ],
   "source": [
    "\"\"\"Write a python program to convert the given list of integers into a tuple of strings. Use map and \n",
    "lambda functions\n",
    " Given String: [1, 2, 3, 4, 5, 6, 7, 8, 9, 10]\n",
    " Expected output: ('1', '2', '3', '4', '5', '6', '7', '8', '9', '10')\"\"\"\n",
    "\n",
    "l= [1, 2, 3, 4, 5, 6, 7, 8, 9, 10]\n",
    "\n",
    "tup_l =  tuple(map(lambda x: str(x), l))\n",
    "\n",
    "print(\"given string list\",l)\n",
    "print(\"the string tuple\", tup_l)"
   ]
  },
  {
   "cell_type": "code",
   "execution_count": 11,
   "id": "1d8db197",
   "metadata": {},
   "outputs": [
    {
     "name": "stdout",
     "output_type": "stream",
     "text": [
      "product 1 to 25 =  15511210043330985984000000\n"
     ]
    }
   ],
   "source": [
    "\"\"\"Write a python program using reduce function to compute the product of a list containing numbers \n",
    "from 1 to 25.\"\"\"\n",
    "\n",
    "\n",
    "from functools import reduce\n",
    "\n",
    "num = list(range(1,26))\n",
    "product_num = reduce(lambda x,y:x*y,num)\n",
    "\n",
    "print(\"product 1 to 25 = \",product_num)\n",
    "\n"
   ]
  },
  {
   "cell_type": "code",
   "execution_count": 12,
   "id": "77b65a68",
   "metadata": {},
   "outputs": [
    {
     "name": "stdout",
     "output_type": "stream",
     "text": [
      "Number divisible by 2 and 3 [6, 60, 90, 120]\n"
     ]
    }
   ],
   "source": [
    "\"\"\"Write a python program to filter the numbers in a given list that are divisible by 2 and 3 using the \n",
    "filter function.\n",
    " [2, 3, 6, 9, 27, 60, 90, 120, 55, 46]\"\"\"\n",
    "\n",
    "\n",
    "list_num =  [2, 3, 6, 9, 27, 60, 90, 120, 55, 46]\n",
    "\n",
    "newList = list(filter(lambda x:x%2==0 and x%3==0 , list_num))\n",
    "\n",
    "print(\"Number divisible by 2 and 3\",newList)"
   ]
  },
  {
   "cell_type": "code",
   "execution_count": 14,
   "id": "92d62d9c",
   "metadata": {},
   "outputs": [
    {
     "name": "stdout",
     "output_type": "stream",
     "text": [
      "Palindrom list ['php', 'aba', 'radar', 'level']\n"
     ]
    }
   ],
   "source": [
    "\"\"\"Write a python program to find palindromes in the given list of strings using lambda and filter \n",
    "function.\n",
    " ['python', 'php', 'aba', 'radar', 'level']\"\"\"\n",
    "\n",
    "\n",
    "str_list = ['python', 'php', 'aba', 'radar', 'level']\n",
    "\n",
    "palindrom_list = list(filter(lambda x: x== x[::-1], str_list))\n",
    "\n",
    "\n",
    "print(\"Palindrom list\",palindrom_list)"
   ]
  },
  {
   "cell_type": "code",
   "execution_count": null,
   "id": "b29fc69c",
   "metadata": {},
   "outputs": [],
   "source": []
  }
 ],
 "metadata": {
  "kernelspec": {
   "display_name": "Python 3 (ipykernel)",
   "language": "python",
   "name": "python3"
  },
  "language_info": {
   "codemirror_mode": {
    "name": "ipython",
    "version": 3
   },
   "file_extension": ".py",
   "mimetype": "text/x-python",
   "name": "python",
   "nbconvert_exporter": "python",
   "pygments_lexer": "ipython3",
   "version": "3.9.7"
  }
 },
 "nbformat": 4,
 "nbformat_minor": 5
}
