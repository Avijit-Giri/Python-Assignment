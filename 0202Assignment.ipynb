{
 "cells": [
  {
   "cell_type": "code",
   "execution_count": 7,
   "id": "a9f6d7c3",
   "metadata": {},
   "outputs": [
    {
     "name": "stdout",
     "output_type": "stream",
     "text": [
      "example of for loop\n",
      "Enter the number : 10\n",
      "0\n",
      "1\n",
      "2\n",
      "3\n",
      "4\n",
      "5\n",
      "6\n",
      "7\n",
      "8\n",
      "9\n",
      "10\n",
      "example of while loop\n",
      "1\n",
      "2\n",
      "3\n",
      "4\n",
      "5\n",
      "6\n",
      "7\n",
      "8\n",
      "9\n",
      "10\n"
     ]
    }
   ],
   "source": [
    "#Q1.  Explain with an example each when to use a for loop and a while loop.\n",
    "\n",
    "\n",
    "#print 0 to 10 using looop\n",
    "\n",
    "#for loop\n",
    "print(\"example of for loop\")\n",
    "num=int(input(\"Enter the number : \"))\n",
    "for i in range(0,num+1) :\n",
    "    print(i)\n",
    "    \n",
    "    \n",
    "# While loop\n",
    "\n",
    "print(\"example of while loop\")\n",
    "num = 1\n",
    "while num<=10:\n",
    "    print(num)\n",
    "    num = num+1\n",
    "    "
   ]
  },
  {
   "cell_type": "code",
   "execution_count": 12,
   "id": "e7d30d53",
   "metadata": {},
   "outputs": [
    {
     "name": "stdout",
     "output_type": "stream",
     "text": [
      "Enter how many number:10\n",
      "Sum of n natural numbers are: 55\n"
     ]
    }
   ],
   "source": [
    "#Q2.  Write a python program to print the sum and product of the first 10 natural numbers using for \n",
    "#    and while loop.\n",
    "\n",
    "k = int(input(\"Enter how many number:\"))\n",
    "\n",
    "s = 0\n",
    "i = 0\n",
    "while i <= k:\n",
    "    s = s + i\n",
    "    i += 1\n",
    "\n",
    "print(\"Sum of n natural numbers are:\", s)"
   ]
  },
  {
   "cell_type": "code",
   "execution_count": 8,
   "id": "a34877e9",
   "metadata": {},
   "outputs": [
    {
     "name": "stdout",
     "output_type": "stream",
     "text": [
      "Enter the total unit : 310\n",
      "2250.0\n"
     ]
    }
   ],
   "source": [
    "#Q3. Create a python program to compute the electricity bill for a household.\n",
    "\"\"\"\" The per-unit charges in rupees are as follows: For the first 100 units, the user will be charged Rs. 4.5 per \n",
    "unit, for the next 100 units, the user will be charged Rs. 6 per unit, and for the next 100 units, the user will \n",
    "be charged Rs. 10 per unit, After 300 units and above the user will be charged Rs. 20 per unit.\n",
    " You are required to take the units of electricity consumed in a month from the user as input.\n",
    " Your program must pass this test case: when the unit of electricity consumed by the user in a month is \n",
    "310, the total electricity bill should be 2250.\"\"\"\n",
    "\n",
    "\n",
    "units = int(input(\"Enter the total unit : \"))\n",
    "\n",
    "total_bill = 0\n",
    "if units <= 100:\n",
    "    total_bill = units * 4.5\n",
    "elif units <= 200:\n",
    "    total_bill = 100 * 4.5 + (units - 100) * 6\n",
    "elif units <= 300:\n",
    "    total_bill = 100 * 4.5 + 100 * 6 + (units - 200) * 10\n",
    "else:\n",
    "    total_bill = 100 * 4.5 + 100 * 6 + 100 * 10 + (units - 300) * 20\n",
    "        \n",
    "print(total_bill)"
   ]
  },
  {
   "cell_type": "code",
   "execution_count": 9,
   "id": "3d50c81d",
   "metadata": {},
   "outputs": [
    {
     "name": "stdout",
     "output_type": "stream",
     "text": [
      "Using for loop:\n",
      "[2, 4, 5, 6, 8, 10, 12, 14, 15, 16, 18, 20, 22, 24, 25, 26, 28, 30, 32, 34, 35, 36, 38, 40, 42, 44, 45, 46, 48, 50, 52, 54, 55, 56, 58, 60, 62, 64, 65, 66, 68, 70, 72, 74, 75, 76, 78, 80, 82, 84, 85, 86, 88, 90, 92, 94, 95, 96, 98, 100]\n",
      "\n",
      "Using while loop:\n",
      "[2, 4, 5, 6, 8, 10, 12, 14, 15, 16, 18, 20, 22, 24, 25, 26, 28, 30, 32, 34, 35, 36, 38, 40, 42, 44, 45, 46, 48, 50, 52, 54, 55, 56, 58, 60, 62, 64, 65, 66, 68, 70, 72, 74, 75, 76, 78, 80, 82, 84, 85, 86, 88, 90, 92, 94, 95, 96, 98, 100]\n"
     ]
    }
   ],
   "source": [
    "#Q4. Create a list of numbers from 1 to 100. Use for loop and while loop to calculate the cube of each \n",
    "#     number and if the cube of that number is divisible by 4 or 5 then append that number in a list and print \n",
    "#     that list.\n",
    "\n",
    "\n",
    "#For Loop\n",
    "\n",
    "c = []\n",
    "for num in range(1, 101):\n",
    "    cube = num ** 3\n",
    "    if cube % 4 == 0 or cube % 5 == 0:\n",
    "        c.append(num)\n",
    "\n",
    "print(\"Using for loop:\")\n",
    "print(c)\n",
    "\n",
    "\n",
    "\n",
    "# While Loop\n",
    "c = []\n",
    "num = 1\n",
    "while num <= 100:\n",
    "    cube = num ** 3\n",
    "    if cube % 4 == 0 or cube % 5 == 0:\n",
    "        c.append(num)\n",
    "    num += 1\n",
    "\n",
    "print(\"\\nUsing while loop:\")\n",
    "print(c)"
   ]
  },
  {
   "cell_type": "code",
   "execution_count": 11,
   "id": "7406a159",
   "metadata": {},
   "outputs": [
    {
     "name": "stdout",
     "output_type": "stream",
     "text": [
      "12\n"
     ]
    }
   ],
   "source": [
    "#Q5.  Write a program to filter count vowels in the below-given string.\n",
    " #    string = \"I want to become a data scientist\"\n",
    "\n",
    "vowels=['a','e','i','o','u','A','E','I','O','U']\n",
    "count = 0\n",
    "string = \"I want to become a data scientist\"\n",
    "for i in string:\n",
    "    if i in vowels:\n",
    "        count =count+1\n",
    "            \n",
    "print(count)"
   ]
  },
  {
   "cell_type": "code",
   "execution_count": null,
   "id": "95edb5c8",
   "metadata": {},
   "outputs": [],
   "source": []
  }
 ],
 "metadata": {
  "kernelspec": {
   "display_name": "Python 3 (ipykernel)",
   "language": "python",
   "name": "python3"
  },
  "language_info": {
   "codemirror_mode": {
    "name": "ipython",
    "version": 3
   },
   "file_extension": ".py",
   "mimetype": "text/x-python",
   "name": "python",
   "nbconvert_exporter": "python",
   "pygments_lexer": "ipython3",
   "version": "3.9.7"
  }
 },
 "nbformat": 4,
 "nbformat_minor": 5
}
